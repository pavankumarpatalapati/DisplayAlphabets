{
  "nbformat": 4,
  "nbformat_minor": 0,
  "metadata": {
    "colab": {
      "name": "More Numpy Methods.ipynb",
      "provenance": [],
      "collapsed_sections": [
        "wLDR4ik0O7aj"
      ],
      "include_colab_link": true
    },
    "kernelspec": {
      "name": "python3",
      "display_name": "Python 3"
    }
  },
  "cells": [
    {
      "cell_type": "markdown",
      "metadata": {
        "id": "view-in-github",
        "colab_type": "text"
      },
      "source": [
        "<a href=\"https://colab.research.google.com/github/pavankumarpatalapati/DisplayAlphabets/blob/master/More_Numpy_Methods.ipynb\" target=\"_parent\"><img src=\"https://colab.research.google.com/assets/colab-badge.svg\" alt=\"Open In Colab\"/></a>"
      ]
    },
    {
      "cell_type": "code",
      "metadata": {
        "id": "Uv1uyYeEWAOD"
      },
      "source": [
        "import numpy as np"
      ],
      "execution_count": null,
      "outputs": []
    },
    {
      "cell_type": "markdown",
      "metadata": {
        "id": "RrLpxgE-bH4A"
      },
      "source": [
        "# Padding with Different Pad Widths"
      ]
    },
    {
      "cell_type": "markdown",
      "metadata": {
        "id": "VjHGwgTtn8TX"
      },
      "source": [
        "* `numpy.pad(array, pad_width, mode='constant', **kwargs)`\n",
        "  * `pad_width` is the number of values padded to the edges of each axis.\n",
        "  * Output is padded array of rank equal to `array`, with shape increased according to `pad_width`. \n"
      ]
    },
    {
      "cell_type": "code",
      "metadata": {
        "id": "1jtTpf1lbMg-"
      },
      "source": [
        "array_2D = np.array([['A', 'B', 'C'], \n",
        "                  ['D', 'E', 'F'],\n",
        "                  ['G', 'H', 'I']])"
      ],
      "execution_count": null,
      "outputs": []
    },
    {
      "cell_type": "markdown",
      "metadata": {
        "id": "e_wB3VUBbOth"
      },
      "source": [
        "Padding with 'constant' mode"
      ]
    },
    {
      "cell_type": "code",
      "metadata": {
        "id": "RFESzPj9bOSD"
      },
      "source": [
        "np.pad(array_2D, pad_width=((1, 2),(3, 1)), mode='constant', constant_values=(('X', 'Y'),('W', 'Z')))"
      ],
      "execution_count": null,
      "outputs": []
    },
    {
      "cell_type": "markdown",
      "metadata": {
        "id": "FmknRzgWbjlS"
      },
      "source": [
        "Pad with 'edge' mode"
      ]
    },
    {
      "cell_type": "code",
      "metadata": {
        "id": "uGDUwwiCbjAw"
      },
      "source": [
        "np.pad(array_2D, ((1, 2),(3, 1)), 'edge')"
      ],
      "execution_count": null,
      "outputs": []
    },
    {
      "cell_type": "markdown",
      "metadata": {
        "id": "ALGnnH8cgpYF"
      },
      "source": [
        "# More Numpy Methods"
      ]
    },
    {
      "cell_type": "markdown",
      "metadata": {
        "id": "QPOaieYpwZ1M"
      },
      "source": [
        "### **`np.unique`**"
      ]
    },
    {
      "cell_type": "markdown",
      "metadata": {
        "id": "IbKMzujPwg6M"
      },
      "source": [
        "\n",
        "\n",
        "*   `np.unique(arr, return_index=False, return_inverse=False, return_counts=False, axis=None)`\n",
        "  *   Returns the sorted unique elements of an array.\n",
        "\n"
      ]
    },
    {
      "cell_type": "code",
      "metadata": {
        "id": "0o1oaX_xxAlS"
      },
      "source": [
        "a = np.array([1, 3, 3, 1, 2, 1])\n",
        "np.unique(a)"
      ],
      "execution_count": null,
      "outputs": []
    },
    {
      "cell_type": "markdown",
      "metadata": {
        "id": "szulkWFNxXmx"
      },
      "source": [
        "* If `return_index = True`, it returns the indices of the first occurrences of the unique values in the original array, along with the unique sorted array."
      ]
    },
    {
      "cell_type": "code",
      "metadata": {
        "id": "plyINcdJxxxU"
      },
      "source": [
        "unique_array, first_indices = np.unique(a, return_index = True)\n",
        "unique_array, first_indices"
      ],
      "execution_count": null,
      "outputs": []
    },
    {
      "cell_type": "markdown",
      "metadata": {
        "id": "mKNAJbimzxsA"
      },
      "source": [
        "* If `return_counts = True`, it returns the number of times each of the unique values comes up in the original array. "
      ]
    },
    {
      "cell_type": "code",
      "metadata": {
        "id": "H3gddXV3z_nw"
      },
      "source": [
        "a = np.array([1, 3, 3, 1, 2, 1])\n",
        "np.unique(a, return_counts = True)"
      ],
      "execution_count": null,
      "outputs": []
    },
    {
      "cell_type": "markdown",
      "metadata": {
        "id": "OH5VcIRC0SnA"
      },
      "source": [
        "The following code returns the unique rows of a 2D array:"
      ]
    },
    {
      "cell_type": "code",
      "metadata": {
        "id": "75JIXI9e0V2Z"
      },
      "source": [
        "a = np.array([[1, 2, 1],\n",
        "              [1, 2, 1],\n",
        "              [3, 2, 4]])\n",
        "\n",
        "np.unique(a, axis=0)"
      ],
      "execution_count": null,
      "outputs": []
    },
    {
      "cell_type": "markdown",
      "metadata": {
        "id": "IWORGEvxynZs"
      },
      "source": [
        "* If `return_inverse = True`, it returns the indices to reconstruct the original array from the unique array."
      ]
    },
    {
      "cell_type": "code",
      "metadata": {
        "id": "XcJ-afsMy9bT"
      },
      "source": [
        "a = np.array([1, 3, 3, 1, 2, 1])\n",
        "unique_array, indices = np.unique(a, return_inverse = True)\n",
        "\n",
        "print(\"original array:\\n \", a, \"\\n\")\n",
        "print(\"indices:\\n\", indices, \"\\n\" )\n",
        "print(\"reconstructed original array using fancy indexing:\\n\", unique_array[indices])"
      ],
      "execution_count": null,
      "outputs": []
    },
    {
      "cell_type": "markdown",
      "metadata": {
        "id": "eZd5VkA34sY3"
      },
      "source": [
        "### **`np.where`**"
      ]
    },
    {
      "cell_type": "markdown",
      "metadata": {
        "id": "EEm_1Exp45Zd"
      },
      "source": [
        "* `numpy.where(condition[, x, y])`\n",
        "  * For all the elements where the condition is `True`, the returned array has the corresponding elements chosen from `x`. \n",
        "  * For all the elements where the condition is `False`, the returned array has the corresponding elements chosen from `y`."
      ]
    },
    {
      "cell_type": "code",
      "metadata": {
        "id": "M7d-Yb8CioNG"
      },
      "source": [
        "np.where?"
      ],
      "execution_count": null,
      "outputs": []
    },
    {
      "cell_type": "code",
      "metadata": {
        "id": "QEc3OIvK5hYg"
      },
      "source": [
        "a = np.arange(5)\n",
        "np.where(a > 2, [11, 12, 13, 14, 15], [111, 222, 333, 444, 555])"
      ],
      "execution_count": null,
      "outputs": []
    },
    {
      "cell_type": "code",
      "metadata": {
        "id": "3a28dAFujeGQ"
      },
      "source": [
        "a = np.arange(10)\n",
        "np.where(a > 7, 0, 100)"
      ],
      "execution_count": null,
      "outputs": []
    },
    {
      "cell_type": "code",
      "metadata": {
        "id": "w3tWQnlXjl9H"
      },
      "source": [
        "a = np.arange(10)\n",
        "np.where(a > 5, a*2, a*a)"
      ],
      "execution_count": null,
      "outputs": []
    },
    {
      "cell_type": "code",
      "metadata": {
        "id": "mGn4jQy56gtZ"
      },
      "source": [
        "a = np.array([[1, 2, 3],\n",
        "              [4, 5, 6]])\n",
        "\n",
        "np.where(a < 5, a , 0)"
      ],
      "execution_count": null,
      "outputs": []
    },
    {
      "cell_type": "markdown",
      "metadata": {
        "id": "LVIvdngF9U_L"
      },
      "source": [
        "**Comparison can also be done between two different arrays**"
      ]
    },
    {
      "cell_type": "code",
      "metadata": {
        "id": "DeX3uOws9j-J"
      },
      "source": [
        "a = np.array([[1, 2, 3],\n",
        "              [4, 5, 6]])\n",
        "\n",
        "b = np.ones([2, 3]) * 4\n",
        "\n",
        "print(\"a: \\n\", a, \"\\n\")\n",
        "print(\"b: \\n\", b, \"\\n\")\n",
        "\n",
        "print(\"np.where result:\\n\", np.where(a < b, a , 0))"
      ],
      "execution_count": null,
      "outputs": []
    },
    {
      "cell_type": "markdown",
      "metadata": {
        "id": "atYBIrJ689BN"
      },
      "source": [
        "**When the two arrays are of different shapes, they are broadcast together before applying the operation**"
      ]
    },
    {
      "cell_type": "code",
      "metadata": {
        "id": "IBL3SbYW7oEQ"
      },
      "source": [
        "x = np.array([[0],\n",
        "              [1],\n",
        "              [2]])\n",
        "\n",
        "y = np.array([[3, 4, 5, 6]])\n",
        "\n",
        "np.where(x < y, x, 10 + y)"
      ],
      "execution_count": null,
      "outputs": []
    },
    {
      "cell_type": "markdown",
      "metadata": {
        "id": "jJ-Pb46g_dgC"
      },
      "source": [
        "### **`np.any`**"
      ]
    },
    {
      "cell_type": "markdown",
      "metadata": {
        "id": "mRLtdzmH_gm6"
      },
      "source": [
        "* `numpy.any(a, axis=None)`\n",
        "  * Tests whether **any** of the array elements along the given `axis` evaluates to `True`.\n",
        "  * Returns a new boolean ndarray."
      ]
    },
    {
      "cell_type": "code",
      "metadata": {
        "id": "ovM_V3tHEEBa"
      },
      "source": [
        "a = np.array([False, True, True, False])\n",
        "np.any(a)"
      ],
      "execution_count": null,
      "outputs": []
    },
    {
      "cell_type": "code",
      "metadata": {
        "id": "4f1Ifc8rANDJ"
      },
      "source": [
        "a = np.array([1, 0, 0, 2])\n",
        "np.any(a)"
      ],
      "execution_count": null,
      "outputs": []
    },
    {
      "cell_type": "code",
      "metadata": {
        "id": "FVA0rHEbAWbc"
      },
      "source": [
        "a = np.array([0, 0, 0, 0])\n",
        "np.any(a)"
      ],
      "execution_count": null,
      "outputs": []
    },
    {
      "cell_type": "code",
      "metadata": {
        "id": "w0MULv5XAdWw"
      },
      "source": [
        "a = np.array([[1, 0, 3, 4],\n",
        "              [2, 0, 6, 5]])\n",
        "\n",
        "resultant_array_0 = np.any(a, axis=0)\n",
        "print(\"resultant array along axis 0:\\n\",resultant_array_0,\"\\n\")\n",
        "\n",
        "resultant_array_1 = np.any(a, axis=1)\n",
        "print(\"resultant array along axis 1:\\n\",resultant_array_1,\"\\n\")\n",
        "\n",
        "resultant_array_none = np.any(a)\n",
        "print(\"resultant array along axis none:\\n\",resultant_array_none,\"\\n\")"
      ],
      "execution_count": null,
      "outputs": []
    },
    {
      "cell_type": "markdown",
      "metadata": {
        "id": "VLce1hO-Cifw"
      },
      "source": [
        "### **`np.all`**"
      ]
    },
    {
      "cell_type": "markdown",
      "metadata": {
        "id": "ivCP4PWKCmVY"
      },
      "source": [
        "\n",
        "\n",
        "*   `numpy.all(a, axis=None, out=None)`\n",
        "  *   Tests whether **all** of the array elements along the given `axis` evaluate to `True`.\n",
        "  *   Returns a new boolean ndarray.\n",
        "\n"
      ]
    },
    {
      "cell_type": "code",
      "metadata": {
        "id": "1nXMoTLpC8sL"
      },
      "source": [
        "a = np.array([1, 2, 3, 0])\n",
        "\n",
        "result_any = np.any(a)\n",
        "result_all = np.all(a)\n",
        "\n",
        "print(\"result using any:\\n\", result_any, \"\\n\")\n",
        "print(\"result using all:\\n\", result_all, \"\\n\")"
      ],
      "execution_count": null,
      "outputs": []
    },
    {
      "cell_type": "code",
      "metadata": {
        "id": "JmHx2z1CDlUe"
      },
      "source": [
        "a = np.array([[1, 0, 3, 4],\n",
        "              [2, 0, 6, 5]])\n",
        "\n",
        "resultant_array_0 = np.all(a, axis=0)\n",
        "print(\"resultant_array_along_axis_0:\\n\",resultant_array_0,\"\\n\")\n",
        "\n",
        "resultant_array_1 = np.all(a, axis=1)\n",
        "print(\"resultant_array_along_axis_1:\\n\",resultant_array_1,\"\\n\")\n",
        "\n",
        "resultant_array_none = np.all(a)\n",
        "print(\"resultant_array_along_axis_none:\\n\",resultant_array_none,\"\\n\")"
      ],
      "execution_count": null,
      "outputs": []
    },
    {
      "cell_type": "markdown",
      "metadata": {
        "id": "wLDR4ik0O7aj"
      },
      "source": [
        "### **np.nan**"
      ]
    },
    {
      "cell_type": "markdown",
      "metadata": {
        "id": "Bd9wC2pFO-s5"
      },
      "source": [
        "* `numpy.nan` \n",
        "  * IEEE 754 floating point representation of **N**ot **a** **N**umber(NaN)."
      ]
    },
    {
      "cell_type": "code",
      "metadata": {
        "id": "fa6B3_YfPrAr"
      },
      "source": [
        "a = np.array([0]) / 0\n",
        "a"
      ],
      "execution_count": null,
      "outputs": []
    },
    {
      "cell_type": "markdown",
      "metadata": {
        "id": "x7y7_HyOQqhI"
      },
      "source": [
        "**We can not compare two NaNs**"
      ]
    },
    {
      "cell_type": "code",
      "metadata": {
        "id": "13rfHoJYQcVG"
      },
      "source": [
        "np.nan == np.nan"
      ],
      "execution_count": null,
      "outputs": []
    },
    {
      "cell_type": "markdown",
      "metadata": {
        "id": "oZnvFfxAP62p"
      },
      "source": [
        "### **np.inf**"
      ]
    },
    {
      "cell_type": "markdown",
      "metadata": {
        "id": "AkVKo0iLP_cX"
      },
      "source": [
        "* `numpy.inf` \n",
        "  * IEEE 754 floating point representation of **(positive) infinity**."
      ]
    },
    {
      "cell_type": "code",
      "metadata": {
        "id": "Uazm1vHWQQVy"
      },
      "source": [
        "a = np.array([1]) / 0\n",
        "a"
      ],
      "execution_count": null,
      "outputs": []
    },
    {
      "cell_type": "markdown",
      "metadata": {
        "id": "w0K23L-lQxQh"
      },
      "source": [
        "Comparing two inf numbers."
      ]
    },
    {
      "cell_type": "code",
      "metadata": {
        "id": "nof6Zu7KQjSD"
      },
      "source": [
        "np.inf == np.inf"
      ],
      "execution_count": null,
      "outputs": []
    }
  ]
}